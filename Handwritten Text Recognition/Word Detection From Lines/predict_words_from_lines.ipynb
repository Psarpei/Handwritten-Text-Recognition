{
  "nbformat": 4,
  "nbformat_minor": 0,
  "metadata": {
    "colab": {
      "name": "predict_words_from_line.ipynb",
      "provenance": [],
      "collapsed_sections": []
    },
    "kernelspec": {
      "name": "python3",
      "display_name": "Python 3"
    },
    "accelerator": "GPU"
  },
  "cells": [
    {
      "cell_type": "code",
      "metadata": {
        "id": "RTcjgPcAqQS3",
        "colab_type": "code",
        "colab": {}
      },
      "source": [
        "import torch\n",
        "from torchvision import transforms\n",
        "import torch.nn.functional as F\n",
        "import torch.nn as nn\n",
        "\n",
        "from PIL import Image\n",
        "import imageio\n",
        "import os\n",
        "\n",
        "from google.colab import drive"
      ],
      "execution_count": 0,
      "outputs": []
    },
    {
      "cell_type": "code",
      "metadata": {
        "id": "jcKLwsSLqlHH",
        "colab_type": "code",
        "colab": {
          "base_uri": "https://localhost:8080/",
          "height": 121
        },
        "outputId": "04e48800-692a-4ebf-8073-29b80bb9ecfc"
      },
      "source": [
        "from google.colab import drive\n",
        "drive.mount('/content/drive')"
      ],
      "execution_count": 2,
      "outputs": [
        {
          "output_type": "stream",
          "text": [
            "Go to this URL in a browser: https://accounts.google.com/o/oauth2/auth?client_id=947318989803-6bn6qk8qdgf4n4g3pfee6491hc0brc4i.apps.googleusercontent.com&redirect_uri=urn%3aietf%3awg%3aoauth%3a2.0%3aoob&response_type=code&scope=email%20https%3a%2f%2fwww.googleapis.com%2fauth%2fdocs.test%20https%3a%2f%2fwww.googleapis.com%2fauth%2fdrive%20https%3a%2f%2fwww.googleapis.com%2fauth%2fdrive.photos.readonly%20https%3a%2f%2fwww.googleapis.com%2fauth%2fpeopleapi.readonly\n",
            "\n",
            "Enter your authorization code:\n",
            "··········\n",
            "Mounted at /content/drive\n"
          ],
          "name": "stdout"
        }
      ]
    },
    {
      "cell_type": "code",
      "metadata": {
        "id": "9APn6meyqn5Q",
        "colab_type": "code",
        "colab": {}
      },
      "source": [
        "class YOLO(nn.Module):\n",
        "    \"\"\"neural network architectur inspired by YOLO V1\"\"\"\n",
        "    \n",
        "    def __init__(self, col_size):\n",
        "        super(YOLO, self).__init__()\n",
        "        self.col_size = col_size\n",
        "        self.conv1 = nn.Conv2d(1, 16, 7, stride=2)\n",
        "        self.mp1 = nn.MaxPool2d(2, 2)\n",
        "        self.conv2 = nn.Conv2d(16, 32, (3, 3), stride=1)\n",
        "        self.mp2 = nn.MaxPool2d(2, 2)\n",
        "        self.conv3 = nn.Conv2d(32, 64, (3, 3), stride=1)\n",
        "        self.mp3 = nn.MaxPool2d(2, 2)\n",
        "\n",
        "        self.fc1 = nn.Linear(64*5*104, 2048)\n",
        "        self.fc2 = nn.Linear(2048, col_size * 3)\n",
        "        self.dropout = nn.Dropout()\n",
        "\n",
        "    def forward(self, x):\n",
        "        # Conv + ReLU + max pooling for two layers\n",
        "        x = F.relu(self.conv1(x))\n",
        "        #print(x.size())\n",
        "        x = self.mp1(x)\n",
        "        #print(x.size())\n",
        "        x = F.relu(self.conv2(x))\n",
        "        #print(x.size())\n",
        "        x = self.mp2(x)\n",
        "        #print(x.size())\n",
        "        x = F.relu(self.conv3(x))\n",
        "        #print(x.size())\n",
        "        x = self.mp3(x)\n",
        "        #print(x.size())\n",
        "        x = x.view(-1, 64*5*104)\n",
        "        #print(x.size())\n",
        "        x = F.relu(self.dropout(self.fc1(x)))\n",
        "        #print(x.size())\n",
        "        x = self.fc2(x)\n",
        "        #print(x.size())\n",
        "        x = x.view(-1, self.col_size, 3)\n",
        "        #print(x.size())\n",
        "        x = torch.sigmoid(x)\n",
        "        return x"
      ],
      "execution_count": 0,
      "outputs": []
    },
    {
      "cell_type": "code",
      "metadata": {
        "id": "JoXHXd5NrguS",
        "colab_type": "code",
        "colab": {}
      },
      "source": [
        "def calc_iou(box1, box2):\n",
        "    \"\"\"calculate iou for 2 boxes\"\"\"\n",
        "\n",
        "    # calculate the coordinates of the insersection rectangle\n",
        "    x1 = max(box1[0], box2[0])\n",
        "    y1 = max(box1[1], box2[1])\n",
        "    x2 = min(box1[2], box2[2])\n",
        "    y2 = min(box1[3], box2[3])\n",
        "\n",
        "    # calculate the area of intersetion rectangle\n",
        "    intersection = max(0, x2 - x1 + 1) * max(0, y2 - y1 + 1)\n",
        "\n",
        "    # calculate the area of the single boxes\n",
        "    box1_area = (box1[2] - box1[0] + 1) * (box1[3] - box1[1] + 1)\n",
        "    box2_area = (box2[2] - box2[0] + 1) * (box2[3] - box2[1] + 1)\n",
        "\n",
        "    iou = intersection / (box1_area + box2_area - intersection)\n",
        "\n",
        "    return iou"
      ],
      "execution_count": 0,
      "outputs": []
    },
    {
      "cell_type": "code",
      "metadata": {
        "id": "CHpH8bzXySbJ",
        "colab_type": "code",
        "colab": {}
      },
      "source": [
        "def calc_x_y(col, tensor):\n",
        "    \"\"\"calculate x, y, width, height from output \"\"\"\n",
        "    \n",
        "    x = tensor[1] * (1700 / 30) + col * (1700 / 30)\n",
        "    width = tensor[2] * 1700\n",
        "    return torch.FloatTensor([1, x, 0, width, 120])"
      ],
      "execution_count": 0,
      "outputs": []
    },
    {
      "cell_type": "code",
      "metadata": {
        "id": "kdl1GAU0r8i3",
        "colab_type": "code",
        "colab": {}
      },
      "source": [
        "def calc_mean_iou(output, target):\n",
        "    \"\"\"calculate iou for batch\"\"\"\n",
        "    \n",
        "    iou_list = []\n",
        "    for i in range(output.size(0)):\n",
        "        ious = []\n",
        "        for j in range(output.size(1)):\n",
        "            if (target[i][j][0] == 1):\n",
        "                x_y_target = calc_x_y(j, target[i, j])\n",
        "                x_y_output = calc_x_y(j, output[i, j])\n",
        "                box1 = calc_box(x_y_target)\n",
        "                box2 = calc_box(x_y_output)\n",
        "                ious.append(calc_iou(box1, box2))\n",
        "        iou_list.append(torch.mean(torch.stack(ious)))\n",
        "\n",
        "    mean_iou = torch.mean(torch.stack(iou_list))\n",
        "    return mean_iou"
      ],
      "execution_count": 0,
      "outputs": []
    },
    {
      "cell_type": "code",
      "metadata": {
        "id": "PGxP_pm2r-XX",
        "colab_type": "code",
        "colab": {}
      },
      "source": [
        "def calc_box(tensor):\n",
        "    \"\"\"calculate coordinates for the output image from tensor\"\"\"\n",
        "    \n",
        "    x1 = tensor[1]\n",
        "    y1 = tensor[2]\n",
        "    x2 = min(1700, x1 + tensor[3])\n",
        "    y2 = min(200, y1 + tensor[4])\n",
        "    box = [x1, y1, x2, y2]\n",
        "\n",
        "    return box"
      ],
      "execution_count": 0,
      "outputs": []
    },
    {
      "cell_type": "code",
      "metadata": {
        "id": "apQLC-fvsBJX",
        "colab_type": "code",
        "colab": {}
      },
      "source": [
        "def non_maximum_suppression(tensor, percent):\n",
        "    \"\"\"choose predicted lines by highest propability. \n",
        "    Lines who overlap a actual choosen line by percent or higher will delete.\"\"\"\n",
        "    \n",
        "    for j in range(tensor.size(0)):\n",
        "        if(tensor[j,0].item() < 0.2):\n",
        "            tensor[j,0] = torch.tensor(0)\n",
        "    found = []\n",
        "    while(True):\n",
        "        maximum = 0\n",
        "        index = 0\n",
        "        for j in range(tensor.size(0)):\n",
        "            if(tensor[j,0].item() > maximum and j not in found):\n",
        "                maximum = tensor[j,0].item()\n",
        "                index = j\n",
        "\n",
        "        if(maximum == 0):\n",
        "            break\n",
        "\n",
        "        found.append(index)\n",
        "        tensor[index,0] = torch.tensor(1)\n",
        "            \n",
        "        for j in range(tensor.size(1)):\n",
        "            if(j != index and tensor[j,0] >= 0.2):\n",
        "                x_y_max = calc_x_y(index, tensor[index])\n",
        "                x_y_other = calc_x_y(j, tensor[j])\n",
        "                box1 = calc_box(x_y_max)\n",
        "                box2 = calc_box(x_y_other)\n",
        "                if(calc_iou(box1, box2) > percent):\n",
        "                    tensor[j,0] = 0"
      ],
      "execution_count": 0,
      "outputs": []
    },
    {
      "cell_type": "code",
      "metadata": {
        "id": "HeC_51qDsGdC",
        "colab_type": "code",
        "colab": {
          "base_uri": "https://localhost:8080/",
          "height": 235
        },
        "outputId": "8839dea4-0722-4e00-c9fa-03277e5b6bb6"
      },
      "source": [
        "imgs_path = \"drive/My Drive/pred_words/lines/\"\n",
        "imgs_paths = os.listdir(imgs_path)\n",
        "weight_path = \"drive/My Drive/weights_lines_to_words.pt\"\n",
        "predict_path = \"drive/My Drive/pred_words/preds\"\n",
        "\n",
        "transform = transforms.Compose([transforms.Resize((120, 1700)),\n",
        "                                    transforms.ToTensor()])\n",
        "\n",
        "# set a boolean flag that indicates whether a cuda capable GPU is available\n",
        "is_gpu = torch.cuda.is_available()\n",
        "print(\"GPU is available:\", is_gpu)\n",
        "print(\"If you are receiving False, try setting your runtime to GPU\")\n",
        "\n",
        "# set the device to cuda if a GPU is available\n",
        "device = torch.device(\"cuda\" if is_gpu else \"cpu\")\n",
        "model = torch.load(weight_path)\n",
        "\n",
        "print(model)"
      ],
      "execution_count": 108,
      "outputs": [
        {
          "output_type": "stream",
          "text": [
            "GPU is available: True\n",
            "If you are receiving False, try setting your runtime to GPU\n",
            "YOLO(\n",
            "  (conv1): Conv2d(1, 16, kernel_size=(7, 7), stride=(2, 2))\n",
            "  (mp1): MaxPool2d(kernel_size=2, stride=2, padding=0, dilation=1, ceil_mode=False)\n",
            "  (conv2): Conv2d(16, 32, kernel_size=(3, 3), stride=(1, 1))\n",
            "  (mp2): MaxPool2d(kernel_size=2, stride=2, padding=0, dilation=1, ceil_mode=False)\n",
            "  (conv3): Conv2d(32, 64, kernel_size=(3, 3), stride=(1, 1))\n",
            "  (mp3): MaxPool2d(kernel_size=2, stride=2, padding=0, dilation=1, ceil_mode=False)\n",
            "  (fc1): Linear(in_features=33280, out_features=2048, bias=True)\n",
            "  (fc2): Linear(in_features=2048, out_features=90, bias=True)\n",
            "  (dropout): Dropout(p=0.5, inplace=False)\n",
            ")\n"
          ],
          "name": "stdout"
        }
      ]
    },
    {
      "cell_type": "code",
      "metadata": {
        "id": "HdzBguK3sMf1",
        "colab_type": "code",
        "colab": {}
      },
      "source": [
        "def predict_words(model,imgs_path, predict_path):\n",
        "    \"\"\" predict lines to words from image path to predict_path\"\"\"\n",
        "\n",
        "    img_count = 0\n",
        "    for path in imgs_paths:\n",
        "        count = 0\n",
        "        img_tensor = transform(Image.open(imgs_path + path))\n",
        "        output = model(torch.stack([img_tensor]).to(device))[0]\n",
        "        print(output)\n",
        "        # find right boxes\n",
        "        non_maximum_suppression(output, 0.35)\n",
        "        img = imageio.imread(imgs_path + path)\n",
        "        print(img.shape)\n",
        "        y2 = img.shape[0]\n",
        "        #print(output)\n",
        "        xscale = img.shape[1] / 1700\n",
        "        print(xscale, xscale)\n",
        "        for i in range(30):\n",
        "            if(output[i][0] > 0.3):\n",
        "                #print(output[i])\n",
        "                box = calc_box(calc_x_y(i, output[i]))\n",
        "                x1 = round((int(box[0])) * xscale)\n",
        "                x2 = round((int(box[2])) * xscale)\n",
        "                print(box)\n",
        "                print(round(x1), round(x2))\n",
        "                imageio.imwrite(predict_path + \"/pic\" + str(img_count) + \"line\" + str(count) + '.jpg', img[0:y2, x1:x2])\n",
        "                count += 1\n",
        "        img_count += 1"
      ],
      "execution_count": 0,
      "outputs": []
    },
    {
      "cell_type": "code",
      "metadata": {
        "id": "VtAAArAFwrY-",
        "colab_type": "code",
        "colab": {
          "base_uri": "https://localhost:8080/",
          "height": 806
        },
        "outputId": "6f8ff5bc-a46b-4fb4-b6e3-14fee69cf0c0"
      },
      "source": [
        "predict_words(model, imgs_path, predict_path)"
      ],
      "execution_count": 114,
      "outputs": [
        {
          "output_type": "stream",
          "text": [
            "tensor([[9.9639e-01, 3.9334e-03, 3.2225e-02],\n",
            "        [9.9555e-01, 9.0195e-01, 1.6002e-01],\n",
            "        [1.8491e-03, 4.1281e-01, 1.2407e-01],\n",
            "        [5.6295e-04, 3.9433e-01, 7.4753e-02],\n",
            "        [4.5746e-03, 7.5465e-01, 4.3097e-02],\n",
            "        [1.1855e-02, 5.8009e-01, 1.8902e-02],\n",
            "        [2.5550e-02, 8.9468e-01, 3.1569e-02],\n",
            "        [9.9144e-01, 6.1615e-02, 4.3593e-02],\n",
            "        [1.3663e-03, 7.0785e-01, 2.4480e-02],\n",
            "        [9.9822e-01, 2.9038e-01, 1.1361e-01],\n",
            "        [3.2958e-04, 4.3468e-01, 7.0716e-02],\n",
            "        [9.4243e-03, 6.1222e-01, 3.5910e-02],\n",
            "        [8.5489e-03, 6.0740e-01, 4.3146e-02],\n",
            "        [1.1715e-03, 8.2580e-01, 3.7833e-02],\n",
            "        [9.6492e-01, 8.2186e-02, 5.5563e-02],\n",
            "        [6.2499e-03, 6.5470e-01, 4.2356e-02],\n",
            "        [3.4404e-02, 2.5040e-01, 4.7891e-02],\n",
            "        [1.2384e-02, 5.0401e-01, 4.6076e-02],\n",
            "        [9.9792e-01, 5.4326e-01, 2.2369e-01],\n",
            "        [9.1372e-03, 4.8923e-01, 2.0709e-01],\n",
            "        [2.0750e-05, 4.8442e-01, 9.7710e-02],\n",
            "        [1.2070e-03, 5.8893e-01, 9.7192e-02],\n",
            "        [2.4364e-03, 4.9770e-01, 6.0646e-02],\n",
            "        [1.7560e-02, 5.2706e-01, 5.3567e-02],\n",
            "        [1.1612e-03, 4.8652e-01, 4.6981e-02],\n",
            "        [1.0834e-02, 4.1177e-01, 1.9907e-02],\n",
            "        [9.9814e-01, 8.8028e-01, 1.0369e-01],\n",
            "        [3.2845e-03, 1.8328e-01, 9.5400e-02],\n",
            "        [2.4142e-04, 4.6269e-01, 4.4426e-02],\n",
            "        [1.0120e-02, 8.3123e-01, 4.6981e-03]], device='cuda:0',\n",
            "       grad_fn=<SelectBackward>)\n",
            "(89, 1661)\n",
            "0.9770588235294118 0.9770588235294118\n",
            "[tensor(0.2229), tensor(0.), tensor(55.0062), tensor(120.)]\n",
            "0 54\n",
            "[tensor(107.7773), tensor(0.), tensor(379.8109), tensor(120.)]\n",
            "105 370\n",
            "[tensor(400.1582), tensor(0.), tensor(474.2662), tensor(120.)]\n",
            "391 463\n",
            "[tensor(526.4546), tensor(0.), tensor(719.5911), tensor(120.)]\n",
            "514 703\n",
            "[tensor(797.9905), tensor(0.), tensor(892.4476), tensor(120.)]\n",
            "779 872\n",
            "[tensor(1050.7848), tensor(0.), tensor(1431.0579), tensor(120.)]\n",
            "1026 1398\n",
            "[tensor(1523.2161), tensor(0.), tensor(1699.4890), tensor(120.)]\n",
            "1488 1660\n"
          ],
          "name": "stdout"
        }
      ]
    },
    {
      "cell_type": "code",
      "metadata": {
        "id": "Hrgltihkw2nR",
        "colab_type": "code",
        "colab": {}
      },
      "source": [
        ""
      ],
      "execution_count": 0,
      "outputs": []
    }
  ]
}